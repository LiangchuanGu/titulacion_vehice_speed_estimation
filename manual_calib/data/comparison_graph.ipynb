{
 "cells": [
  {
   "cell_type": "code",
   "execution_count": 1,
   "metadata": {},
   "outputs": [],
   "source": [
    "import numpy as np\n",
    "import pandas as pd\n",
    "import matplotlib.pyplot as plt\n",
    "\n",
    "from os import listdir\n",
    "from matplotlib import rcParams\n",
    "rcParams['font.family'] = ['serif']\n",
    "rcParams['font.serif'] = ['Times New Roman']\n",
    "rcParams['font.size'] = 16\n"
   ]
  },
  {
   "cell_type": "code",
   "execution_count": 2,
   "metadata": {},
   "outputs": [],
   "source": [
    "def read_results(filename:str):\n",
    "    file = open(filename)\n",
    "    params = file.readlines()\n",
    "    projectionErr = float(params[1])\n",
    "    distanceErr = float(params[2])\n",
    "    reprojErr = float(params[3])\n",
    "\n",
    "    return (projectionErr, distanceErr, reprojErr)"
   ]
  },
  {
   "cell_type": "code",
   "execution_count": 3,
   "metadata": {},
   "outputs": [],
   "source": [
    "prefix_path_base = \"base/\"\n",
    "prefix_path_eda = \"EDA/\"\n",
    "prefix_path_ransac = \"RANSAC/\"\n",
    "\n",
    "pe_base, de_base, re_base = [], [], []\n",
    "pe_eda, de_eda, re_eda = [], [], []\n",
    "pe_ransac, de_ransac, re_ransac = [], [], []\n",
    "\n",
    "available = [1,2,5,6,7,9,11,12,13,14]\n",
    "for f in available:\n",
    "    filename = prefix_path_base + \"calibration\" + f\"{f}\" + \".txt\"\n",
    "    result = list(read_results(filename))\n",
    "    pe_base.append(result[0])\n",
    "    de_base.append(result[1])\n",
    "    re_base.append(result[2])\n",
    "\n",
    "for f in available:\n",
    "    filename = prefix_path_ransac + \"calibration\" + f\"{f}\" + \".txt\"\n",
    "    result = list(read_results(filename))\n",
    "    pe_ransac.append(result[0])\n",
    "    de_ransac.append(result[1])\n",
    "    re_ransac.append(result[2])\n",
    "\n",
    "for f in available[:-5]:\n",
    "    filename = prefix_path_eda + \"calibration\" + f\"{f}\" + \".txt\"\n",
    "    result = list(read_results(filename))\n",
    "    pe_eda.append(result[0])\n",
    "    de_eda.append(result[1])\n",
    "    re_eda.append(result[2])\n",
    "for i in range(5):\n",
    "    pe_eda.append(0.0)\n",
    "    de_eda.append(0.0)\n",
    "    re_eda.append(0.0)"
   ]
  },
  {
   "cell_type": "code",
   "execution_count": 4,
   "metadata": {},
   "outputs": [
    {
     "data": {
      "text/plain": [
       "array([[11.80965195,  0.40216345, 11.80965195],\n",
       "       [ 4.63839522,  0.11610809,  4.63839522],\n",
       "       [11.39690247,  0.26627801, 11.39690247],\n",
       "       [47.19916631,  1.29729918, 47.19916631],\n",
       "       [ 4.83771106,  0.29972172,  4.83771106],\n",
       "       [ 0.        ,  0.        ,  0.        ],\n",
       "       [ 0.        ,  0.        ,  0.        ],\n",
       "       [ 0.        ,  0.        ,  0.        ],\n",
       "       [ 0.        ,  0.        ,  0.        ],\n",
       "       [ 0.        ,  0.        ,  0.        ]])"
      ]
     },
     "execution_count": 4,
     "metadata": {},
     "output_type": "execute_result"
    }
   ],
   "source": [
    "np.array((pe_base, pe_eda, pe_ransac)).T"
   ]
  },
  {
   "cell_type": "code",
   "execution_count": 5,
   "metadata": {},
   "outputs": [],
   "source": [
    "df_pe = pd.DataFrame(np.array([available, pe_base, pe_eda, pe_ransac]).T, columns=[\"id\",\"base\", \"eda\", \"ransac\"])\n",
    "df_de = pd.DataFrame(np.array([available, de_base, de_eda, de_ransac]).T, columns=[\"id\", \"base\", \"eda\", \"ransac\"])\n",
    "df_re = pd.DataFrame(np.array([available, re_base, re_eda, re_ransac]).T, columns=[\"id\", \"base\", \"eda\", \"ransac\"])\n",
    "\n",
    "df_pe['id'] = df_pe['id'].astype(int)\n",
    "df_de['id'] = df_pe['id'].astype(int)\n",
    "df_re['id'] = df_pe['id'].astype(int)"
   ]
  },
  {
   "cell_type": "code",
   "execution_count": 6,
   "metadata": {},
   "outputs": [
    {
     "data": {
      "text/html": [
       "<div>\n",
       "<style scoped>\n",
       "    .dataframe tbody tr th:only-of-type {\n",
       "        vertical-align: middle;\n",
       "    }\n",
       "\n",
       "    .dataframe tbody tr th {\n",
       "        vertical-align: top;\n",
       "    }\n",
       "\n",
       "    .dataframe thead th {\n",
       "        text-align: right;\n",
       "    }\n",
       "</style>\n",
       "<table border=\"1\" class=\"dataframe\">\n",
       "  <thead>\n",
       "    <tr style=\"text-align: right;\">\n",
       "      <th></th>\n",
       "      <th>id</th>\n",
       "      <th>base</th>\n",
       "      <th>eda</th>\n",
       "      <th>ransac</th>\n",
       "    </tr>\n",
       "  </thead>\n",
       "  <tbody>\n",
       "    <tr>\n",
       "      <th>0</th>\n",
       "      <td>1</td>\n",
       "      <td>11.809652</td>\n",
       "      <td>0.402163</td>\n",
       "      <td>11.809652</td>\n",
       "    </tr>\n",
       "    <tr>\n",
       "      <th>1</th>\n",
       "      <td>2</td>\n",
       "      <td>4.638395</td>\n",
       "      <td>0.116108</td>\n",
       "      <td>4.638395</td>\n",
       "    </tr>\n",
       "    <tr>\n",
       "      <th>2</th>\n",
       "      <td>5</td>\n",
       "      <td>11.396902</td>\n",
       "      <td>0.266278</td>\n",
       "      <td>11.396902</td>\n",
       "    </tr>\n",
       "    <tr>\n",
       "      <th>3</th>\n",
       "      <td>6</td>\n",
       "      <td>47.199166</td>\n",
       "      <td>1.297299</td>\n",
       "      <td>47.199166</td>\n",
       "    </tr>\n",
       "    <tr>\n",
       "      <th>4</th>\n",
       "      <td>7</td>\n",
       "      <td>4.837711</td>\n",
       "      <td>0.299722</td>\n",
       "      <td>4.837711</td>\n",
       "    </tr>\n",
       "    <tr>\n",
       "      <th>5</th>\n",
       "      <td>9</td>\n",
       "      <td>0.000000</td>\n",
       "      <td>0.000000</td>\n",
       "      <td>0.000000</td>\n",
       "    </tr>\n",
       "    <tr>\n",
       "      <th>6</th>\n",
       "      <td>11</td>\n",
       "      <td>0.000000</td>\n",
       "      <td>0.000000</td>\n",
       "      <td>0.000000</td>\n",
       "    </tr>\n",
       "    <tr>\n",
       "      <th>7</th>\n",
       "      <td>12</td>\n",
       "      <td>0.000000</td>\n",
       "      <td>0.000000</td>\n",
       "      <td>0.000000</td>\n",
       "    </tr>\n",
       "    <tr>\n",
       "      <th>8</th>\n",
       "      <td>13</td>\n",
       "      <td>0.000000</td>\n",
       "      <td>0.000000</td>\n",
       "      <td>0.000000</td>\n",
       "    </tr>\n",
       "    <tr>\n",
       "      <th>9</th>\n",
       "      <td>14</td>\n",
       "      <td>0.000000</td>\n",
       "      <td>0.000000</td>\n",
       "      <td>0.000000</td>\n",
       "    </tr>\n",
       "  </tbody>\n",
       "</table>\n",
       "</div>"
      ],
      "text/plain": [
       "   id       base       eda     ransac\n",
       "0   1  11.809652  0.402163  11.809652\n",
       "1   2   4.638395  0.116108   4.638395\n",
       "2   5  11.396902  0.266278  11.396902\n",
       "3   6  47.199166  1.297299  47.199166\n",
       "4   7   4.837711  0.299722   4.837711\n",
       "5   9   0.000000  0.000000   0.000000\n",
       "6  11   0.000000  0.000000   0.000000\n",
       "7  12   0.000000  0.000000   0.000000\n",
       "8  13   0.000000  0.000000   0.000000\n",
       "9  14   0.000000  0.000000   0.000000"
      ]
     },
     "execution_count": 6,
     "metadata": {},
     "output_type": "execute_result"
    }
   ],
   "source": [
    "df_pe"
   ]
  },
  {
   "cell_type": "code",
   "execution_count": 7,
   "metadata": {},
   "outputs": [
    {
     "data": {
      "image/png": "[encoded data removed]",
      "text/plain": [
       "<Figure size 432x288 with 1 Axes>"
      ]
     },
     "metadata": {
      "needs_background": "light"
     },
     "output_type": "display_data"
    }
   ],
   "source": [
    "df_pe.plot(kind='bar', x=\"id\")\n",
    "plt.ylabel(\"Error (pixels)\")\n",
    "plt.xlabel(\"Video Index\")\n",
    "plt.gcf().subplots_adjust(bottom=0.15)\n",
    "plt.savefig(\"../../results/calib_res/proj_err.jpg\")"
   ]
  },
  {
   "cell_type": "code",
   "execution_count": 8,
   "metadata": {},
   "outputs": [
    {
     "data": {
      "image/png": "[encoded data removed]",
      "text/plain": [
       "<Figure size 432x288 with 1 Axes>"
      ]
     },
     "metadata": {
      "needs_background": "light"
     },
     "output_type": "display_data"
    }
   ],
   "source": [
    "\n",
    "df_de.plot(kind='bar', x=\"id\")\n",
    "plt.ylabel(\"Distance Error (m)\")\n",
    "plt.xlabel(\"Video Index\")\n",
    "plt.gcf().subplots_adjust(bottom=0.15)\n",
    "plt.savefig(\"../../results/calib_res/dist_err.jpg\")"
   ]
  },
  {
   "cell_type": "code",
   "execution_count": 9,
   "metadata": {},
   "outputs": [
    {
     "data": {
      "text/plain": [
       "<AxesSubplot:xlabel='id'>"
      ]
     },
     "execution_count": 9,
     "metadata": {},
     "output_type": "execute_result"
    },
    {
     "data": {
      "image/png": "[encoded data removed]",
      "text/plain": [
       "<Figure size 432x288 with 1 Axes>"
      ]
     },
     "metadata": {
      "needs_background": "light"
     },
     "output_type": "display_data"
    }
   ],
   "source": [
    "df_re.plot(kind='bar', x=\"id\")"
   ]
  },
  {
   "cell_type": "code",
   "execution_count": 10,
   "metadata": {},
   "outputs": [
    {
     "data": {
      "text/plain": [
       "7.98818270116013"
      ]
     },
     "execution_count": 10,
     "metadata": {},
     "output_type": "execute_result"
    }
   ],
   "source": [
    "df_pe.base.mean()"
   ]
  },
  {
   "cell_type": "code",
   "execution_count": 11,
   "metadata": {},
   "outputs": [
    {
     "data": {
      "text/plain": [
       "0.23815704542760047"
      ]
     },
     "execution_count": 11,
     "metadata": {},
     "output_type": "execute_result"
    }
   ],
   "source": [
    "df_pe.eda.mean()"
   ]
  },
  {
   "cell_type": "code",
   "execution_count": 12,
   "metadata": {},
   "outputs": [
    {
     "data": {
      "text/plain": [
       "7.98818270116013"
      ]
     },
     "execution_count": 12,
     "metadata": {},
     "output_type": "execute_result"
    }
   ],
   "source": [
    "df_pe.ransac.mean()"
   ]
  },
  {
   "cell_type": "code",
   "execution_count": 15,
   "metadata": {},
   "outputs": [
    {
     "data": {
      "text/plain": [
       "97.01863296901043"
      ]
     },
     "execution_count": 15,
     "metadata": {},
     "output_type": "execute_result"
    }
   ],
   "source": [
    "100 - df_pe.eda.mean()/df_pe.base.mean()*100\n"
   ]
  },
  {
   "cell_type": "code",
   "execution_count": null,
   "metadata": {},
   "outputs": [],
   "source": []
  }
 ],
 "metadata": {
  "interpreter": {
   "hash": "69867f0ddc9a578ab7a57d208592aca9e10c0d935cb7b86ccff671d542740662"
  },
  "kernelspec": {
   "display_name": "Python 3.8.8 64-bit ('rapids-0.18': conda)",
   "name": "python3"
  },
  "language_info": {
   "codemirror_mode": {
    "name": "ipython",
    "version": 3
   },
   "file_extension": ".py",
   "mimetype": "text/x-python",
   "name": "python",
   "nbconvert_exporter": "python",
   "pygments_lexer": "ipython3",
   "version": "3.8.8"
  },
  "orig_nbformat": 2
 },
 "nbformat": 4,
 "nbformat_minor": 2
}
